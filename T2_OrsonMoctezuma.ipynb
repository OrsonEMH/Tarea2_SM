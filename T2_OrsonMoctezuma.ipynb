{
 "cells": [
  {
   "cell_type": "markdown",
   "metadata": {},
   "source": [
    "# Resumenes de lecturas "
   ]
  },
  {
   "cell_type": "markdown",
   "metadata": {},
   "source": [
    "## [Why Python is so popular with developers: 3 reasons the language has exploded](https://www.techrepublic.com/article/why-python-is-so-popular-with-developers-3-reasons-the-language-has-exploded/)\n",
    "\n",
    "\n",
    "En los últimos años se ha visto como Python se ha convertido en uno de los lenguajes de programación más utilizados en el mundo, ganándose el reconocimiento de ser un increíble lenguaje de programación por parte de diversas figuras del área de tecnología y ciencia. \n",
    "Las razones por las que este lenguaje de programación a triunfado tanto son: poseer una sintaxis simple y confiable con la cual es fácil familiarizarse; es una herramienta que permite a sus usuarios darle diferentes usos, desde crear paginas web hasta el desarrollo de machine learning; la gran comunidad de desarrolladores que trabajan con Python ha creado una biblioteca de códigos con un sinfín de útiles herramientas. "
   ]
  },
  {
   "cell_type": "markdown",
   "metadata": {},
   "source": [
    "## [Python is becoming the world’s most popular coding language](https://www.economist.com/graphic-detail/2018/07/26/python-is-becoming-the-worlds-most-popular-coding-language)\n",
    "\n",
    "Python cuanta con una gigantesca biblioteca llena de herramientas, 140,000 en números cerrados, que pueden usarse tanto para programación de videojuegos como en astronomía, también es hoy día el lenguaje de programación del momento y ha tenido una extensa aplicación en diferentes industrias como la del cine. Se cree que por estas razones Python podría lograr sustituir el uso de otros lenguajes, pero se sigue siendo muy pronto para realizar este tipo de afirmaciones debido a que en el pasado han existido diferentes programas que también tuvieron una popularidad comparable con la de Python y hoy en día son lenguajes de programación de poco uso.\n"
   ]
  }
 ],
 "metadata": {
  "kernelspec": {
   "display_name": "Python 3",
   "language": "python",
   "name": "python3"
  },
  "language_info": {
   "codemirror_mode": {
    "name": "ipython",
    "version": 3
   },
   "file_extension": ".py",
   "mimetype": "text/x-python",
   "name": "python",
   "nbconvert_exporter": "python",
   "pygments_lexer": "ipython3",
   "version": "3.8.3"
  }
 },
 "nbformat": 4,
 "nbformat_minor": 4
}
